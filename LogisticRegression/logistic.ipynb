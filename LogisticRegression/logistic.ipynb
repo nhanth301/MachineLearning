{
 "cells": [
  {
   "cell_type": "code",
   "execution_count": 1,
   "metadata": {
    "collapsed": true,
    "ExecuteTime": {
     "end_time": "2023-10-05T08:32:39.172627700Z",
     "start_time": "2023-10-05T08:32:39.166123100Z"
    }
   },
   "outputs": [],
   "source": [
    "import numpy as np\n",
    "import pandas as pd"
   ]
  },
  {
   "cell_type": "code",
   "execution_count": 2,
   "outputs": [],
   "source": [
    "class LogisticRegressor():\n",
    "    def __init__(self, lr = 0.0001, epochs = 100 , threshold = 0.5):\n",
    "        self.__lr = lr\n",
    "        self.__epochs = epochs\n",
    "        self.__threshold = threshold\n",
    "        self.__losses = []\n",
    "        self.__W = None\n",
    "\n",
    "    def _computeLoss(self,y,y_hat):\n",
    "        return -y * np.log(y_hat) - (1-y) * np.log(1-y_hat)\n",
    "\n",
    "    def _sigmoidFunc(self,z):\n",
    "            return 1 / (1 + np.exp(-z))\n",
    "\n",
    "    def _predict(self,X):\n",
    "        z = np.dot(X,self.__W)\n",
    "        return self._sigmoidFunc(z)\n",
    "\n",
    "    def predict(self,X):\n",
    "        X = np.hstack([np.ones((X.shape[0],1)),X])\n",
    "        y_hat = self._predict(X)\n",
    "        return np.where(y_hat < self.__threshold, 0, 1)\n",
    "\n",
    "    def _computeGradient(self,X,y,y_hat):\n",
    "        return np.dot(X.T,y_hat-y)\n",
    "\n",
    "    def _updateWeight(self,gradient):\n",
    "        return self.__W - self.__lr * gradient\n",
    "\n",
    "    def fit(self,X,y):\n",
    "        X = np.hstack([np.ones((X.shape[0],1)),X])\n",
    "        self.__W = np.array([0] * X.shape[1])\n",
    "        for epoch in range(self.__epochs):\n",
    "            y_hat = self._predict(X)\n",
    "            loss = self._computeLoss(y,y_hat)\n",
    "            gradient = self._computeGradient(X,y,y_hat)\n",
    "            self.__W = self._updateWeight(gradient)\n",
    "            self.__losses.append(np.mean(loss))\n",
    "\n",
    "    def parameters(self):\n",
    "        return self.__W\n",
    "\n",
    "    def losses(self):\n",
    "        return self.__losses"
   ],
   "metadata": {
    "collapsed": false,
    "ExecuteTime": {
     "end_time": "2023-10-05T08:32:39.188266500Z",
     "start_time": "2023-10-05T08:32:39.172627700Z"
    }
   }
  },
  {
   "cell_type": "markdown",
   "source": [
    "# 1. Load dataset"
   ],
   "metadata": {
    "collapsed": false
   }
  },
  {
   "cell_type": "code",
   "execution_count": 3,
   "outputs": [
    {
     "data": {
      "text/plain": "        Width     Length  Result\n0   34.623660  78.024693       0\n1   30.286711  43.894998       0\n2   35.847409  72.902198       0\n3   60.182599  86.308552       1\n4   79.032736  75.344376       1\n..        ...        ...     ...\n95  83.489163  48.380286       1\n96  42.261701  87.103851       1\n97  99.315009  68.775409       1\n98  55.340018  64.931938       1\n99  74.775893  89.529813       1\n\n[100 rows x 3 columns]",
      "text/html": "<div>\n<style scoped>\n    .dataframe tbody tr th:only-of-type {\n        vertical-align: middle;\n    }\n\n    .dataframe tbody tr th {\n        vertical-align: top;\n    }\n\n    .dataframe thead th {\n        text-align: right;\n    }\n</style>\n<table border=\"1\" class=\"dataframe\">\n  <thead>\n    <tr style=\"text-align: right;\">\n      <th></th>\n      <th>Width</th>\n      <th>Length</th>\n      <th>Result</th>\n    </tr>\n  </thead>\n  <tbody>\n    <tr>\n      <th>0</th>\n      <td>34.623660</td>\n      <td>78.024693</td>\n      <td>0</td>\n    </tr>\n    <tr>\n      <th>1</th>\n      <td>30.286711</td>\n      <td>43.894998</td>\n      <td>0</td>\n    </tr>\n    <tr>\n      <th>2</th>\n      <td>35.847409</td>\n      <td>72.902198</td>\n      <td>0</td>\n    </tr>\n    <tr>\n      <th>3</th>\n      <td>60.182599</td>\n      <td>86.308552</td>\n      <td>1</td>\n    </tr>\n    <tr>\n      <th>4</th>\n      <td>79.032736</td>\n      <td>75.344376</td>\n      <td>1</td>\n    </tr>\n    <tr>\n      <th>...</th>\n      <td>...</td>\n      <td>...</td>\n      <td>...</td>\n    </tr>\n    <tr>\n      <th>95</th>\n      <td>83.489163</td>\n      <td>48.380286</td>\n      <td>1</td>\n    </tr>\n    <tr>\n      <th>96</th>\n      <td>42.261701</td>\n      <td>87.103851</td>\n      <td>1</td>\n    </tr>\n    <tr>\n      <th>97</th>\n      <td>99.315009</td>\n      <td>68.775409</td>\n      <td>1</td>\n    </tr>\n    <tr>\n      <th>98</th>\n      <td>55.340018</td>\n      <td>64.931938</td>\n      <td>1</td>\n    </tr>\n    <tr>\n      <th>99</th>\n      <td>74.775893</td>\n      <td>89.529813</td>\n      <td>1</td>\n    </tr>\n  </tbody>\n</table>\n<p>100 rows × 3 columns</p>\n</div>"
     },
     "execution_count": 3,
     "metadata": {},
     "output_type": "execute_result"
    }
   ],
   "source": [
    "df = pd.read_csv('data.csv')\n",
    "df"
   ],
   "metadata": {
    "collapsed": false,
    "ExecuteTime": {
     "end_time": "2023-10-05T08:32:39.250738200Z",
     "start_time": "2023-10-05T08:32:39.188266500Z"
    }
   }
  },
  {
   "cell_type": "markdown",
   "source": [
    "# 2. Import libraries"
   ],
   "metadata": {
    "collapsed": false
   }
  },
  {
   "cell_type": "code",
   "execution_count": 4,
   "outputs": [],
   "source": [
    "from sklearn.model_selection import train_test_split\n",
    "from sklearn.metrics import accuracy_score\n",
    "import matplotlib.pyplot as plt"
   ],
   "metadata": {
    "collapsed": false,
    "ExecuteTime": {
     "end_time": "2023-10-05T08:32:39.454805Z",
     "start_time": "2023-10-05T08:32:39.250738200Z"
    }
   }
  },
  {
   "cell_type": "markdown",
   "source": [
    "# 3. Train test split"
   ],
   "metadata": {
    "collapsed": false
   }
  },
  {
   "cell_type": "code",
   "execution_count": 5,
   "outputs": [],
   "source": [
    "X = df.iloc[:,:2].values\n",
    "y = df.iloc[:,-1].values"
   ],
   "metadata": {
    "collapsed": false,
    "ExecuteTime": {
     "end_time": "2023-10-05T08:32:39.470644200Z",
     "start_time": "2023-10-05T08:32:39.464510200Z"
    }
   }
  },
  {
   "cell_type": "code",
   "execution_count": 6,
   "outputs": [],
   "source": [
    "X_train, X_val, y_train, y_val = train_test_split(X,y,test_size=0.3,random_state=42,stratify=y)"
   ],
   "metadata": {
    "collapsed": false,
    "ExecuteTime": {
     "end_time": "2023-10-05T08:32:39.486474700Z",
     "start_time": "2023-10-05T08:32:39.470644200Z"
    }
   }
  },
  {
   "cell_type": "markdown",
   "source": [
    "# 4. Logistic regression model"
   ],
   "metadata": {
    "collapsed": false
   }
  },
  {
   "cell_type": "code",
   "execution_count": 7,
   "outputs": [
    {
     "data": {
      "text/plain": "Text(0, 0.5, 'Accuracy')"
     },
     "execution_count": 7,
     "metadata": {},
     "output_type": "execute_result"
    },
    {
     "data": {
      "text/plain": "<Figure size 640x480 with 1 Axes>",
      "image/png": "[encoded data removed]"
     },
     "metadata": {},
     "output_type": "display_data"
    }
   ],
   "source": [
    "thresholds = [0.3,0.35,0.4,0.45,0.5,0.55,0.6,0.65,0.7]\n",
    "learning_rate = 0.00001\n",
    "epochs = 100\n",
    "accs = []\n",
    "for threshold in thresholds:\n",
    "    log_reg = LogisticRegressor(lr=learning_rate,epochs=epochs,threshold=threshold)\n",
    "    log_reg.fit(X_train,y_train)\n",
    "    y_pred = log_reg.predict(X_val)\n",
    "    acc = accuracy_score(y_val,y_pred)\n",
    "    accs.append(acc)\n",
    "plt.plot(thresholds,accs)\n",
    "plt.xlabel('Threshold')\n",
    "plt.ylabel('Accuracy')"
   ],
   "metadata": {
    "collapsed": false,
    "ExecuteTime": {
     "end_time": "2023-10-05T08:32:39.836260100Z",
     "start_time": "2023-10-05T08:32:39.486474700Z"
    }
   }
  }
 ],
 "metadata": {
  "kernelspec": {
   "display_name": "Python 3",
   "language": "python",
   "name": "python3"
  },
  "language_info": {
   "codemirror_mode": {
    "name": "ipython",
    "version": 2
   },
   "file_extension": ".py",
   "mimetype": "text/x-python",
   "name": "python",
   "nbconvert_exporter": "python",
   "pygments_lexer": "ipython2",
   "version": "2.7.6"
  }
 },
 "nbformat": 4,
 "nbformat_minor": 0
}
