{
 "cells": [
  {
   "cell_type": "code",
   "execution_count": 1,
   "metadata": {
    "collapsed": true,
    "ExecuteTime": {
     "end_time": "2023-10-05T08:24:09.248492800Z",
     "start_time": "2023-10-05T08:24:09.184595500Z"
    }
   },
   "outputs": [],
   "source": [
    "import pandas as pd\n",
    "import numpy as np"
   ]
  },
  {
   "cell_type": "code",
   "execution_count": 2,
   "outputs": [],
   "source": [
    "class LinearRegressor():\n",
    "    def __init__(self, lr, epochs):\n",
    "        self.__W = None\n",
    "        self.__losses = []\n",
    "        self.__lr = lr\n",
    "        self.__epochs = epochs\n",
    "\n",
    "    def _predict(self,X):\n",
    "        return np.dot(X,self.__W)\n",
    "    def predict(self,X):\n",
    "        X = np.hstack([np.ones((len(X),1)),X])\n",
    "        return self._predict(X)\n",
    "\n",
    "    def _computeLoss(self, y, y_hat):\n",
    "        return 1/(len(y)*2) * np.square(y_hat - y)\n",
    "\n",
    "    def _computeGradient(self, X, y, y_hat):\n",
    "        return 1/len(y) * np.dot(X.T,(y_hat-y))\n",
    "\n",
    "    def _updateWeight(self, gradient):\n",
    "        return self.__W - (self.__lr * gradient)\n",
    "\n",
    "    def fit(self,X,y):\n",
    "        self.__W = np.array([0] * (X.shape[1]+1))\n",
    "        X = np.hstack([np.ones((len(X),1)),X])\n",
    "        for epoch in range(self.__epochs):\n",
    "            y_hat = self._predict(X)\n",
    "            loss = self._computeLoss(y,y_hat)\n",
    "            gradient = self._computeGradient(X,y,y_hat)\n",
    "            self.__W = self._updateWeight(gradient)\n",
    "            self.__losses.append(np.mean(loss))\n",
    "\n",
    "    def parameters(self):\n",
    "        return self.__W\n",
    "\n",
    "    def losses(self):\n",
    "        return self.__losses"
   ],
   "metadata": {
    "collapsed": false,
    "ExecuteTime": {
     "end_time": "2023-10-05T08:24:09.248492800Z",
     "start_time": "2023-10-05T08:24:09.248492800Z"
    }
   }
  },
  {
   "cell_type": "markdown",
   "source": [
    "# 1.Load dataset"
   ],
   "metadata": {
    "collapsed": false
   }
  },
  {
   "cell_type": "code",
   "execution_count": 3,
   "outputs": [
    {
     "data": {
      "text/plain": "      TV  radio  newspaper  sales\n0  230.1   37.8       69.2   22.1\n1   44.5   39.3       45.1   10.4\n2   17.2   45.9       69.3    9.3\n3  151.5   41.3       58.5   18.5\n4  180.8   10.8       58.4   12.9",
      "text/html": "<div>\n<style scoped>\n    .dataframe tbody tr th:only-of-type {\n        vertical-align: middle;\n    }\n\n    .dataframe tbody tr th {\n        vertical-align: top;\n    }\n\n    .dataframe thead th {\n        text-align: right;\n    }\n</style>\n<table border=\"1\" class=\"dataframe\">\n  <thead>\n    <tr style=\"text-align: right;\">\n      <th></th>\n      <th>TV</th>\n      <th>radio</th>\n      <th>newspaper</th>\n      <th>sales</th>\n    </tr>\n  </thead>\n  <tbody>\n    <tr>\n      <th>0</th>\n      <td>230.1</td>\n      <td>37.8</td>\n      <td>69.2</td>\n      <td>22.1</td>\n    </tr>\n    <tr>\n      <th>1</th>\n      <td>44.5</td>\n      <td>39.3</td>\n      <td>45.1</td>\n      <td>10.4</td>\n    </tr>\n    <tr>\n      <th>2</th>\n      <td>17.2</td>\n      <td>45.9</td>\n      <td>69.3</td>\n      <td>9.3</td>\n    </tr>\n    <tr>\n      <th>3</th>\n      <td>151.5</td>\n      <td>41.3</td>\n      <td>58.5</td>\n      <td>18.5</td>\n    </tr>\n    <tr>\n      <th>4</th>\n      <td>180.8</td>\n      <td>10.8</td>\n      <td>58.4</td>\n      <td>12.9</td>\n    </tr>\n  </tbody>\n</table>\n</div>"
     },
     "execution_count": 3,
     "metadata": {},
     "output_type": "execute_result"
    }
   ],
   "source": [
    "df = pd.read_csv('Advertising.csv')\n",
    "df = df.iloc[:,1:]\n",
    "df.head()"
   ],
   "metadata": {
    "collapsed": false,
    "ExecuteTime": {
     "end_time": "2023-10-05T08:24:09.342330400Z",
     "start_time": "2023-10-05T08:24:09.264080800Z"
    }
   }
  },
  {
   "cell_type": "markdown",
   "source": [
    "# 2. Import libraries"
   ],
   "metadata": {
    "collapsed": false
   }
  },
  {
   "cell_type": "code",
   "execution_count": 9,
   "outputs": [],
   "source": [
    "from sklearn.model_selection import train_test_split\n",
    "from sklearn.preprocessing import StandardScaler\n",
    "from sklearn.metrics import mean_squared_error\n",
    "import matplotlib.pyplot as plt\n",
    "import seaborn as sns"
   ],
   "metadata": {
    "collapsed": false,
    "ExecuteTime": {
     "end_time": "2023-10-05T08:25:27.340223300Z",
     "start_time": "2023-10-05T08:25:27.324597100Z"
    }
   }
  },
  {
   "cell_type": "markdown",
   "source": [
    "# 3. Normalize and split dataset into training and test set"
   ],
   "metadata": {
    "collapsed": false
   }
  },
  {
   "cell_type": "code",
   "execution_count": 5,
   "outputs": [],
   "source": [
    "X = df.iloc[:,:3]\n",
    "y = df.iloc[:,-1]"
   ],
   "metadata": {
    "collapsed": false,
    "ExecuteTime": {
     "end_time": "2023-10-05T08:24:09.773454400Z",
     "start_time": "2023-10-05T08:24:09.738902400Z"
    }
   }
  },
  {
   "cell_type": "markdown",
   "source": [
    "## 3.1 Normalize"
   ],
   "metadata": {
    "collapsed": false
   }
  },
  {
   "cell_type": "code",
   "execution_count": 6,
   "outputs": [],
   "source": [
    "scaler = StandardScaler()\n",
    "X = scaler.fit_transform(X)"
   ],
   "metadata": {
    "collapsed": false,
    "ExecuteTime": {
     "end_time": "2023-10-05T08:24:09.804583500Z",
     "start_time": "2023-10-05T08:24:09.773454400Z"
    }
   }
  },
  {
   "cell_type": "markdown",
   "source": [
    "## 3.2 Split dataset"
   ],
   "metadata": {
    "collapsed": false
   }
  },
  {
   "cell_type": "code",
   "execution_count": 7,
   "outputs": [],
   "source": [
    "X_train, X_val, y_train, y_val = train_test_split(X,y,random_state=42,test_size=0.3)"
   ],
   "metadata": {
    "collapsed": false,
    "ExecuteTime": {
     "end_time": "2023-10-05T08:24:09.804583500Z",
     "start_time": "2023-10-05T08:24:09.773454400Z"
    }
   }
  },
  {
   "cell_type": "markdown",
   "source": [
    "# 4. Linear regression model"
   ],
   "metadata": {
    "collapsed": false
   }
  },
  {
   "cell_type": "code",
   "execution_count": 8,
   "outputs": [
    {
     "data": {
      "text/plain": "Text(0, 0.5, 'MSE')"
     },
     "execution_count": 8,
     "metadata": {},
     "output_type": "execute_result"
    },
    {
     "data": {
      "text/plain": "<Figure size 640x480 with 1 Axes>",
      "image/png": "[encoded data removed]"
     },
     "metadata": {},
     "output_type": "display_data"
    }
   ],
   "source": [
    "learning_rates = [0.001,0.005,0.01,0.05,0.1,0.5]\n",
    "epochs = 100\n",
    "mses = []\n",
    "for lr in learning_rates:\n",
    "    reg = LinearRegressor(lr=lr,epochs=epochs)\n",
    "    reg.fit(X_train,y_train)\n",
    "    y_pred = reg.predict(X_val)\n",
    "    mse = mean_squared_error(y_val,y_pred)\n",
    "    mses.append(mse)\n",
    "sns.barplot(x=learning_rates,y=mses)\n",
    "plt.xlabel('Learning rate')\n",
    "plt.ylabel('MSE')"
   ],
   "metadata": {
    "collapsed": false,
    "ExecuteTime": {
     "end_time": "2023-10-05T08:24:10.522870200Z",
     "start_time": "2023-10-05T08:24:09.804583500Z"
    }
   }
  }
 ],
 "metadata": {
  "kernelspec": {
   "display_name": "Python 3",
   "language": "python",
   "name": "python3"
  },
  "language_info": {
   "codemirror_mode": {
    "name": "ipython",
    "version": 2
   },
   "file_extension": ".py",
   "mimetype": "text/x-python",
   "name": "python",
   "nbconvert_exporter": "python",
   "pygments_lexer": "ipython2",
   "version": "2.7.6"
  }
 },
 "nbformat": 4,
 "nbformat_minor": 0
}
