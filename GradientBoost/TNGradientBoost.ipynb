{
 "cells": [
  {
   "cell_type": "code",
   "execution_count": 38,
   "metadata": {
    "collapsed": true,
    "ExecuteTime": {
     "end_time": "2023-10-08T08:30:28.989478900Z",
     "start_time": "2023-10-08T08:30:28.892799600Z"
    }
   },
   "outputs": [],
   "source": [
    "from sklearn.tree import DecisionTreeRegressor\n",
    "from sklearn.metrics import mean_absolute_error,mean_squared_error\n",
    "import pandas as pd\n",
    "import numpy as np"
   ]
  },
  {
   "cell_type": "code",
   "execution_count": 39,
   "outputs": [],
   "source": [
    "class TNGradientBoost:\n",
    "    def __init__(self, max_depth=8, min_samples_split=5, min_samples_leaf=5, max_features=3, learning_rate=0.1, num_iter=50):\n",
    "        self.max_depth = max_depth\n",
    "        self.min_samples_split = min_samples_split\n",
    "        self.min_samples_leaf = min_samples_leaf\n",
    "        self.max_features = max_features\n",
    "        self.learning_rate = learning_rate\n",
    "        self.num_iter = num_iter\n",
    "        self.F0 = None\n",
    "        self.trees = []\n",
    "\n",
    "    def loss(y,y_pred):\n",
    "        return 1/2 * 1/len(y) * np.sum(np.square(y - y_pred))\n",
    "\n",
    "    def _gradient(self,y,y_pred):\n",
    "        return np.array(y) - y_pred\n",
    "\n",
    "    def _create_decision_tree(self,X,y):\n",
    "        tree_regressor = DecisionTreeRegressor(max_depth=self.max_depth,\n",
    "                                               min_samples_split=self.min_samples_split,\n",
    "                                               min_samples_leaf=self.min_samples_leaf,\n",
    "                                               max_features=self.max_features)\n",
    "        tree_regressor.fit(X,y)\n",
    "        return tree_regressor\n",
    "\n",
    "    def fit(self,X,y):\n",
    "        self.F0 = np.mean(y)\n",
    "        pred = np.array([self.F0]* len(y)).reshape(-1,1)\n",
    "        y = np.array(y).reshape(-1,1)\n",
    "        for i in range(self.num_iter):\n",
    "            grads = self._gradient(y, pred)\n",
    "            base = self._create_decision_tree(X, grads)\n",
    "            r = (base.predict(X)).reshape(len(X),1)\n",
    "            pred += self.learning_rate * r\n",
    "            self.trees.append(base)\n",
    "\n",
    "    def predict(self,X):\n",
    "        pred_0 = np.array([self.F0] * len(X))\n",
    "        pred = pred_0.reshape(-1,1)\n",
    "        for i in range(self.num_iter):\n",
    "            temp = (self.trees[i].predict(X)).reshape(len(X),1)\n",
    "            pred += self.learning_rate * temp\n",
    "        return pred"
   ],
   "metadata": {
    "collapsed": false,
    "ExecuteTime": {
     "end_time": "2023-10-08T08:30:29.058026Z",
     "start_time": "2023-10-08T08:30:28.914833200Z"
    }
   }
  },
  {
   "cell_type": "markdown",
   "source": [
    "## 1. Load dataset"
   ],
   "metadata": {
    "collapsed": false
   }
  },
  {
   "cell_type": "code",
   "execution_count": 40,
   "outputs": [
    {
     "data": {
      "text/plain": "      TV  Radio  Newspaper  Sales\n0  230.1   37.8       69.2   22.1\n1   44.5   39.3       45.1   10.4\n2   17.2   45.9       69.3   12.0\n3  151.5   41.3       58.5   16.5\n4  180.8   10.8       58.4   17.9",
      "text/html": "<div>\n<style scoped>\n    .dataframe tbody tr th:only-of-type {\n        vertical-align: middle;\n    }\n\n    .dataframe tbody tr th {\n        vertical-align: top;\n    }\n\n    .dataframe thead th {\n        text-align: right;\n    }\n</style>\n<table border=\"1\" class=\"dataframe\">\n  <thead>\n    <tr style=\"text-align: right;\">\n      <th></th>\n      <th>TV</th>\n      <th>Radio</th>\n      <th>Newspaper</th>\n      <th>Sales</th>\n    </tr>\n  </thead>\n  <tbody>\n    <tr>\n      <th>0</th>\n      <td>230.1</td>\n      <td>37.8</td>\n      <td>69.2</td>\n      <td>22.1</td>\n    </tr>\n    <tr>\n      <th>1</th>\n      <td>44.5</td>\n      <td>39.3</td>\n      <td>45.1</td>\n      <td>10.4</td>\n    </tr>\n    <tr>\n      <th>2</th>\n      <td>17.2</td>\n      <td>45.9</td>\n      <td>69.3</td>\n      <td>12.0</td>\n    </tr>\n    <tr>\n      <th>3</th>\n      <td>151.5</td>\n      <td>41.3</td>\n      <td>58.5</td>\n      <td>16.5</td>\n    </tr>\n    <tr>\n      <th>4</th>\n      <td>180.8</td>\n      <td>10.8</td>\n      <td>58.4</td>\n      <td>17.9</td>\n    </tr>\n  </tbody>\n</table>\n</div>"
     },
     "execution_count": 40,
     "metadata": {},
     "output_type": "execute_result"
    }
   ],
   "source": [
    "df = pd.read_csv('advertising.csv')\n",
    "df.head(5)"
   ],
   "metadata": {
    "collapsed": false,
    "ExecuteTime": {
     "end_time": "2023-10-08T08:30:29.079157700Z",
     "start_time": "2023-10-08T08:30:28.933936300Z"
    }
   }
  },
  {
   "cell_type": "markdown",
   "source": [
    "## 2. Train test split"
   ],
   "metadata": {
    "collapsed": false
   }
  },
  {
   "cell_type": "code",
   "execution_count": 41,
   "outputs": [],
   "source": [
    "X = df.drop(columns='Sales')\n",
    "y = df['Sales']"
   ],
   "metadata": {
    "collapsed": false,
    "ExecuteTime": {
     "end_time": "2023-10-08T08:30:29.079157700Z",
     "start_time": "2023-10-08T08:30:28.962972200Z"
    }
   }
  },
  {
   "cell_type": "code",
   "execution_count": 42,
   "outputs": [],
   "source": [
    "from sklearn.model_selection import train_test_split\n",
    "X_train, X_test, y_train, y_test = train_test_split(X,y,test_size=0.3, random_state=42)"
   ],
   "metadata": {
    "collapsed": false,
    "ExecuteTime": {
     "end_time": "2023-10-08T08:30:29.083684500Z",
     "start_time": "2023-10-08T08:30:28.989478900Z"
    }
   }
  },
  {
   "cell_type": "markdown",
   "source": [
    "## 3. Using user-defined model"
   ],
   "metadata": {
    "collapsed": false
   }
  },
  {
   "cell_type": "code",
   "execution_count": 43,
   "outputs": [],
   "source": [
    "gg_mdl = TNGradientBoost()\n",
    "gg_mdl.fit(X_train,y_train)"
   ],
   "metadata": {
    "collapsed": false,
    "ExecuteTime": {
     "end_time": "2023-10-08T08:30:29.190999100Z",
     "start_time": "2023-10-08T08:30:28.994742900Z"
    }
   }
  },
  {
   "cell_type": "code",
   "execution_count": 44,
   "outputs": [],
   "source": [
    "y_pred = gg_mdl.predict(X_test)"
   ],
   "metadata": {
    "collapsed": false,
    "ExecuteTime": {
     "end_time": "2023-10-08T08:30:29.274860Z",
     "start_time": "2023-10-08T08:30:29.144895600Z"
    }
   }
  },
  {
   "cell_type": "code",
   "execution_count": 45,
   "outputs": [
    {
     "name": "stdout",
     "output_type": "stream",
     "text": [
      "Mean squared error: 1.954\n",
      "Mean absolute error: 1.059\n"
     ]
    }
   ],
   "source": [
    "mae = mean_absolute_error(y_test,y_pred)\n",
    "mse = mean_squared_error(y_test, y_pred)\n",
    "print(f'Mean squared error: {round(mse,3)}')\n",
    "print(f'Mean absolute error: {round(mae,3)}')"
   ],
   "metadata": {
    "collapsed": false,
    "ExecuteTime": {
     "end_time": "2023-10-08T08:30:29.274860Z",
     "start_time": "2023-10-08T08:30:29.223920200Z"
    }
   }
  },
  {
   "cell_type": "markdown",
   "source": [
    "## 4. Using library's model"
   ],
   "metadata": {
    "collapsed": false
   }
  },
  {
   "cell_type": "code",
   "execution_count": 46,
   "outputs": [],
   "source": [
    "from xgboost import XGBRegressor"
   ],
   "metadata": {
    "collapsed": false,
    "ExecuteTime": {
     "end_time": "2023-10-08T08:30:29.286400Z",
     "start_time": "2023-10-08T08:30:29.243772900Z"
    }
   }
  },
  {
   "cell_type": "code",
   "execution_count": 47,
   "outputs": [
    {
     "data": {
      "text/plain": "XGBRegressor(base_score=None, booster=None, callbacks=None,\n             colsample_bylevel=None, colsample_bynode=None,\n             colsample_bytree=None, early_stopping_rounds=None,\n             enable_categorical=False, eval_metric=None, feature_types=None,\n             gamma=None, gpu_id=None, grow_policy=None, importance_type=None,\n             interaction_constraints=None, learning_rate=None, max_bin=None,\n             max_cat_threshold=None, max_cat_to_onehot=None,\n             max_delta_step=None, max_depth=None, max_leaves=None,\n             min_child_weight=None, missing=nan, monotone_constraints=None,\n             n_estimators=100, n_jobs=None, num_parallel_tree=None,\n             predictor=None, random_state=None, ...)"
     },
     "execution_count": 47,
     "metadata": {},
     "output_type": "execute_result"
    }
   ],
   "source": [
    "sk_mdl = XGBRegressor()\n",
    "sk_mdl.fit(X_train,y_train)"
   ],
   "metadata": {
    "collapsed": false,
    "ExecuteTime": {
     "end_time": "2023-10-08T08:30:29.385110Z",
     "start_time": "2023-10-08T08:30:29.254825700Z"
    }
   }
  },
  {
   "cell_type": "code",
   "execution_count": 48,
   "outputs": [],
   "source": [
    "y_pred = sk_mdl.predict(X_test)"
   ],
   "metadata": {
    "collapsed": false,
    "ExecuteTime": {
     "end_time": "2023-10-08T08:30:29.393641300Z",
     "start_time": "2023-10-08T08:30:29.344740Z"
    }
   }
  },
  {
   "cell_type": "code",
   "execution_count": 49,
   "outputs": [
    {
     "name": "stdout",
     "output_type": "stream",
     "text": [
      "Mean squared error: 2.098\n",
      "Mean absolute error: 1.103\n"
     ]
    }
   ],
   "source": [
    "mae = mean_absolute_error(y_test,y_pred)\n",
    "mse = mean_squared_error(y_test, y_pred)\n",
    "print(f'Mean squared error: {round(mse,3)}')\n",
    "print(f'Mean absolute error: {round(mae,3)}')"
   ],
   "metadata": {
    "collapsed": false,
    "ExecuteTime": {
     "end_time": "2023-10-08T08:30:29.398169700Z",
     "start_time": "2023-10-08T08:30:29.357838100Z"
    }
   }
  }
 ],
 "metadata": {
  "kernelspec": {
   "display_name": "Python 3",
   "language": "python",
   "name": "python3"
  },
  "language_info": {
   "codemirror_mode": {
    "name": "ipython",
    "version": 2
   },
   "file_extension": ".py",
   "mimetype": "text/x-python",
   "name": "python",
   "nbconvert_exporter": "python",
   "pygments_lexer": "ipython2",
   "version": "2.7.6"
  }
 },
 "nbformat": 4,
 "nbformat_minor": 0
}
