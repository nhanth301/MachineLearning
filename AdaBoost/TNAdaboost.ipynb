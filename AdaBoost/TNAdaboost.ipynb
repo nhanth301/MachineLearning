{
 "cells": [
  {
   "cell_type": "code",
   "execution_count": 64,
   "outputs": [],
   "source": [
    "import numpy as np\n",
    "from sklearn.tree import DecisionTreeClassifier\n",
    "from sklearn.model_selection import train_test_split\n",
    "from sklearn.metrics import accuracy_score\n",
    "from sklearn.ensemble import AdaBoostClassifier\n",
    "import pandas as pd"
   ],
   "metadata": {
    "collapsed": false,
    "ExecuteTime": {
     "end_time": "2023-09-16T15:20:29.521960800Z",
     "start_time": "2023-09-16T15:20:29.513438600Z"
    }
   }
  },
  {
   "cell_type": "code",
   "execution_count": 65,
   "metadata": {
    "collapsed": true,
    "ExecuteTime": {
     "end_time": "2023-09-16T15:20:29.545299500Z",
     "start_time": "2023-09-16T15:20:29.526915300Z"
    }
   },
   "outputs": [],
   "source": [
    "class TNAdaboost:\n",
    "    def __init__(self):\n",
    "        self.n_stumps = None\n",
    "        self.stumps = []\n",
    "        self.alphas = []\n",
    "        self.errors = []\n",
    "\n",
    "    @staticmethod\n",
    "    def computeError(y,y_pred,w):\n",
    "        sum_weight_errors = np.sum(w * (np.not_equal(y,y_pred)).astype(int))\n",
    "        return sum_weight_errors / np.sum(w)\n",
    "\n",
    "    @staticmethod\n",
    "    def computeAlpha(error):\n",
    "        epsilon = 0.01\n",
    "        return np.log((1-error + epsilon)/(error + epsilon))\n",
    "\n",
    "    @staticmethod\n",
    "    def updateWeight(w,alpha,y,y_pred):\n",
    "        b = (np.not_equal(y,y_pred)).astype(int) * 2 - 1\n",
    "        w = w * np.exp(alpha * b)\n",
    "        w = w / np.sum(w)\n",
    "        return w\n",
    "\n",
    "    def fit(self,X,y,M = 100):\n",
    "        self.stumps = []\n",
    "        self.alphas = []\n",
    "        self.errors = []\n",
    "        self.n_stumps = M\n",
    "\n",
    "        for i in range(self.n_stumps):\n",
    "            if i == 0:\n",
    "                w_m = np.ones(len(y)) * 1 / len(y)\n",
    "            else:\n",
    "                w_m = TNAdaboost.updateWeight(w_m,alpha_m,y,y_pred)\n",
    "\n",
    "            stump = DecisionTreeClassifier(max_depth=1)\n",
    "            stump.fit(X,y,sample_weight=w_m)\n",
    "            self.stumps.append(stump)\n",
    "            y_pred = stump.predict(X)\n",
    "\n",
    "            error_m = TNAdaboost.computeError(y,y_pred,w_m)\n",
    "            alpha_m = TNAdaboost.computeAlpha(error_m)\n",
    "\n",
    "            self.errors.append(error_m)\n",
    "            self.alphas.append(alpha_m)\n",
    "\n",
    "    def predict(self,X):\n",
    "        tab_pred = np.zeros((len(X),self.n_stumps))\n",
    "        for i in range(self.n_stumps):\n",
    "            y_pred = self.stumps[i].predict(X) * self.alphas[i]\n",
    "            tab_pred[:,i] = y_pred\n",
    "        return (np.sign(tab_pred.sum(axis=1))).astype(int)"
   ]
  },
  {
   "cell_type": "markdown",
   "source": [
    "### Load dataset"
   ],
   "metadata": {
    "collapsed": false
   }
  },
  {
   "cell_type": "code",
   "execution_count": 66,
   "outputs": [],
   "source": [
    "df = pd.read_csv('spambase/spambase.data', header = None)\n",
    "names = pd.read_csv('spambase/spambase.names', sep = ':', skiprows=range(0, 33), header = None)\n",
    "col_names = list(names[0])\n",
    "col_names.append('Spam')\n",
    "df.columns = col_names"
   ],
   "metadata": {
    "collapsed": false,
    "ExecuteTime": {
     "end_time": "2023-09-16T15:20:29.564246200Z",
     "start_time": "2023-09-16T15:20:29.537317900Z"
    }
   }
  },
  {
   "cell_type": "markdown",
   "source": [
    "### Split train and test set"
   ],
   "metadata": {
    "collapsed": false
   }
  },
  {
   "cell_type": "code",
   "execution_count": 67,
   "outputs": [],
   "source": [
    "df['Spam'] = df['Spam'] * 2 - 1\n",
    "X_train, X_test, y_train, y_test = train_test_split(df.drop(columns = 'Spam').values, df['Spam'].values, test_size = 0.2, random_state = 2)"
   ],
   "metadata": {
    "collapsed": false,
    "ExecuteTime": {
     "end_time": "2023-09-16T15:20:29.591917200Z",
     "start_time": "2023-09-16T15:20:29.567238800Z"
    }
   }
  },
  {
   "cell_type": "markdown",
   "source": [
    "### Using user-defined Adaboost"
   ],
   "metadata": {
    "collapsed": false
   }
  },
  {
   "cell_type": "code",
   "execution_count": 68,
   "outputs": [],
   "source": [
    "ad_clf = TNAdaboost()\n",
    "ad_clf.fit(X_train,y_train)"
   ],
   "metadata": {
    "collapsed": false,
    "ExecuteTime": {
     "end_time": "2023-09-16T15:20:30.164365200Z",
     "start_time": "2023-09-16T15:20:29.590918200Z"
    }
   }
  },
  {
   "cell_type": "code",
   "execution_count": 69,
   "outputs": [
    {
     "data": {
      "text/plain": "0.9229098805646037"
     },
     "execution_count": 69,
     "metadata": {},
     "output_type": "execute_result"
    }
   ],
   "source": [
    "y_pred = ad_clf.predict(X_test)\n",
    "accuracy_score(y_pred,y_test)"
   ],
   "metadata": {
    "collapsed": false,
    "ExecuteTime": {
     "end_time": "2023-09-16T15:20:30.225716600Z",
     "start_time": "2023-09-16T15:20:30.154501800Z"
    }
   }
  },
  {
   "cell_type": "markdown",
   "source": [
    "### Using the Library Scikit-Learn implementation of AdaBoost"
   ],
   "metadata": {
    "collapsed": false
   }
  },
  {
   "cell_type": "code",
   "execution_count": 70,
   "outputs": [
    {
     "data": {
      "text/plain": "0.9435396308360477"
     },
     "execution_count": 70,
     "metadata": {},
     "output_type": "execute_result"
    }
   ],
   "source": [
    "sklearn_ad_clf = AdaBoostClassifier()\n",
    "sklearn_ad_clf.fit(X_train,y_train)\n",
    "y_pred = sklearn_ad_clf.predict(X_test)\n",
    "accuracy_score(y_pred,y_test)"
   ],
   "metadata": {
    "collapsed": false,
    "ExecuteTime": {
     "end_time": "2023-09-16T15:20:30.526775400Z",
     "start_time": "2023-09-16T15:20:30.199271200Z"
    }
   }
  }
 ],
 "metadata": {
  "kernelspec": {
   "display_name": "Python 3",
   "language": "python",
   "name": "python3"
  },
  "language_info": {
   "codemirror_mode": {
    "name": "ipython",
    "version": 2
   },
   "file_extension": ".py",
   "mimetype": "text/x-python",
   "name": "python",
   "nbconvert_exporter": "python",
   "pygments_lexer": "ipython2",
   "version": "2.7.6"
  }
 },
 "nbformat": 4,
 "nbformat_minor": 0
}
